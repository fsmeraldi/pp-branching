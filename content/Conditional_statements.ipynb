{
 "cells": [
  {
   "cell_type": "markdown",
   "metadata": {
    "id": "_OsbyxRV_Tfi"
   },
   "source": [
    "# Conditional structures"
   ]
  },
  {
   "cell_type": "markdown",
   "metadata": {
    "id": "vYMPlGfy_Tfn"
   },
   "source": [
    "In order to allow coding arbitrary operations, a programming language needs to provide three types of control structures to steer the execution flow:\n",
    "* sequential execution\n",
    "    * commands executed in the order in which they are written\n",
    "    * what we have seen so far\n",
    "* **conditional execution**\n",
    "    * branch on conditions\n",
    "    * different parts of code executed depending on data\n",
    "    * details in this notebook\n",
    "* loops\n",
    "    * repeat a set of actions many times\n",
    "    * we'll see this in the next notebook\n",
    "    "
   ]
  },
  {
   "cell_type": "code",
   "execution_count": null,
   "metadata": {},
   "outputs": [],
   "source": [
    "# run this cell before you proceed, to enable video playback in the notebook\n",
    "import micropip\n",
    "await micropip.install(\"ipywidgets\")"
   ]
  },
  {
   "cell_type": "code",
   "execution_count": null,
   "metadata": {
    "colab": {
     "base_uri": "https://localhost:8080/",
     "height": 227,
     "referenced_widgets": [
      "ecff2b867c5345cfb0c095851620f5d0",
      "331bf510b0a3470385712086a93a2fc9",
      "bc3c87fdcf1c41db834c9d09384c8c09",
      "80dbfa7d8301486aa5ed01b58fc8b464",
      "2b36381961a34371941671aee3138377",
      "82bb558a821542acbc80a3e9dfbf8cd4",
      "e16e6643b0a54b75847716e2c994d5c7"
     ]
    },
    "executionInfo": {
     "elapsed": 413,
     "status": "ok",
     "timestamp": 1695222214543,
     "user": {
      "displayName": "Patchy Python",
      "userId": "03971971519308571913"
     },
     "user_tz": -60
    },
    "id": "TIDQF6St_Tfq",
    "outputId": "418b723c-5b21-428c-b361-b0eb9b54f6d8"
   },
   "outputs": [],
   "source": [
    "# run this cell to show a video, use slider to resize it, type Esc-o to hide it\n",
    "from IPython.display import YouTubeVideo; from ipywidgets import interactive, IntSlider\n",
    "def _play(resize): display(YouTubeVideo('oZqRfXvJBDw',width=resize, height=320*resize//1100, rel=0, loop=1))\n",
    "interactive(_play, resize=IntSlider(min=300, max=1100, step=50, value=600, continuous_update=False, readout=False))"
   ]
  },
  {
   "cell_type": "markdown",
   "metadata": {
    "id": "daSiShPN_Tft"
   },
   "source": [
    "# Conditional statements: if-else"
   ]
  },
  {
   "cell_type": "markdown",
   "metadata": {
    "id": "jmj7Cf2k_Tfu"
   },
   "source": [
    "The ```if```-```else``` statement is the basic conditional, present in most programming languages. In detail, it looks like this:\n",
    "```\n",
    "if CONDITION:\n",
    "    Block1\n",
    "else:\n",
    "    Block2\n",
    "    \n",
    "```\n",
    "the indentation is important!\n",
    "Example:"
   ]
  },
  {
   "cell_type": "code",
   "execution_count": null,
   "metadata": {
    "id": "ZOp3bO6L_Tfw"
   },
   "outputs": [],
   "source": [
    "kettle_temp=89\n",
    "if kettle_temp>90:\n",
    "    print(\"Brew\")\n",
    "else:\n",
    "    print(\"Wait\")"
   ]
  },
  {
   "cell_type": "markdown",
   "metadata": {
    "id": "nEwMF5b2_Tfw"
   },
   "source": [
    "Or, if no alternative action is required:"
   ]
  },
  {
   "cell_type": "code",
   "execution_count": null,
   "metadata": {
    "id": "WgRrbtz0_Tfx"
   },
   "outputs": [],
   "source": [
    "a=2+2\n",
    "if a!=4: # != means \"not equal\"\n",
    "    print(\"Madness!\")"
   ]
  },
  {
   "cell_type": "markdown",
   "metadata": {
    "id": "NGzgeu6L_Tfy"
   },
   "source": [
    "### Watch your tabs"
   ]
  },
  {
   "cell_type": "markdown",
   "metadata": {
    "id": "-AiTspbe_Tf1"
   },
   "source": [
    "In the example above, indentation is essential. This won't work:"
   ]
  },
  {
   "cell_type": "code",
   "execution_count": null,
   "metadata": {
    "id": "nnt8M4cZ_Tf1"
   },
   "outputs": [],
   "source": [
    "kettle_temp=95\n",
    "if kettle_temp>90:\n",
    "print(\"Brew\")\n",
    "else:\n",
    "print(\"Wait\")"
   ]
  },
  {
   "cell_type": "markdown",
   "metadata": {
    "id": "8iDrUvFl_Tf3"
   },
   "source": [
    "Indentation marks a **block**. You can think of a block as a group of statements that behaves like a single statement from the point of view of if/else, loops, function definitions, etc. Example:"
   ]
  },
  {
   "cell_type": "code",
   "execution_count": null,
   "metadata": {
    "id": "BSAXCctJ_Tf3"
   },
   "outputs": [],
   "source": [
    "kettle_temp=90\n",
    "if kettle_temp==100: # Note the `double equals'\n",
    "    # this is a block containing one statement\n",
    "    print(\"Boiling\")\n",
    "else:\n",
    "    # this is another block containing 2 statements\n",
    "    print(\"Boyle's law: \")\n",
    "print(\"A watched kettle never Boyles :)\")\n",
    "print(\"Ending indentation will end the block - this line always runs\")\n"
   ]
  },
  {
   "cell_type": "code",
   "execution_count": null,
   "metadata": {
    "colab": {
     "base_uri": "https://localhost:8080/",
     "height": 312,
     "referenced_widgets": [
      "b3440ec10c2b4c43a16c5d919825d8a1",
      "15f7df9f4bae43099730be175a568848",
      "6150342181e6487fbc9bf03dc3f976c4",
      "c2a065a0aa974efda271dca29a8ac303",
      "8926bcc4d4554ba1ae99f1fc63899e3d",
      "c0e645a03f184db686cb802706264f8b",
      "136b1864c3a94b389224c63976c61b4d"
     ]
    },
    "executionInfo": {
     "elapsed": 691,
     "status": "ok",
     "timestamp": 1695222209492,
     "user": {
      "displayName": "Patchy Python",
      "userId": "03971971519308571913"
     },
     "user_tz": -60
    },
    "id": "bKgJhhkb_Tf4",
    "outputId": "d9071fca-cf71-423f-8efd-6b62262f913f"
   },
   "outputs": [],
   "source": [
    "# run this cell to show a video, use slider to resize it, type Esc-o to hide it\n",
    "from IPython.display import YouTubeVideo; from ipywidgets import interactive, IntSlider\n",
    "def _play(resize): display(YouTubeVideo('hDXr5uEq4a4',width=resize, height=475*resize//1100, rel=0, loop=1))\n",
    "interactive(_play, resize=IntSlider(min=300, max=1100, step=50, value=600, continuous_update=False, readout=False))"
   ]
  },
  {
   "cell_type": "markdown",
   "metadata": {
    "id": "A4L6Po4O_Tf4"
   },
   "source": [
    "# Conditional statements: if-elif-else"
   ]
  },
  {
   "cell_type": "markdown",
   "metadata": {
    "id": "zzfIhZnN_Tf4"
   },
   "source": [
    "We can code more than two alternatives using the ```elif``` keyword"
   ]
  },
  {
   "cell_type": "code",
   "execution_count": null,
   "metadata": {
    "id": "Il62AK8-_Tf4"
   },
   "outputs": [],
   "source": [
    "kettle_temp=96\n",
    "if kettle_temp>=95:\n",
    "    print(\"Brew English breakfast\")\n",
    "elif kettle_temp>=90:\n",
    "    print(\"Brew green tea\")\n",
    "else:\n",
    "    print(\"Boyle's law: \", end =\"\") # no newline\n",
    "    print(\"A watched kettle never Boyles :)\")\n",
    "print(\"...or, you can have a beer\")"
   ]
  },
  {
   "cell_type": "markdown",
   "metadata": {
    "id": "8E_NDxuv_Tf5"
   },
   "source": [
    "Note that only the first test that's true triggers the execution of the corresponding block. For instance, if ```kettle_temp``` is 96 then it is also larger than 90, but \"Brew green tea\" is not printed."
   ]
  },
  {
   "cell_type": "code",
   "execution_count": null,
   "metadata": {
    "colab": {
     "base_uri": "https://localhost:8080/",
     "height": 284,
     "referenced_widgets": [
      "4e943859299643cd94981384efb768b2",
      "af914b6f9f4d40a69b1203e36fe5d014",
      "0bcbd8467a234d88a610a3d308b467b0",
      "52fc4cd5f45048dca7d81c3b567c3cee",
      "cb3ba27acff0410a81c6249362a65385",
      "e3fe010cde3a46eb8a80b21e12289150",
      "e2b5d7d9f6ca48edb0d5b4386efc49d1"
     ]
    },
    "executionInfo": {
     "elapsed": 598,
     "status": "ok",
     "timestamp": 1695404258978,
     "user": {
      "displayName": "Patchy Python",
      "userId": "03971971519308571913"
     },
     "user_tz": -60
    },
    "id": "H5ohFfK4_Tf5",
    "outputId": "8e5044da-5698-45ea-c775-e92270ceb6bf"
   },
   "outputs": [],
   "source": [
    "# run this cell to show a video, use slider to resize it, type Esc-o to hide it\n",
    "from IPython.display import YouTubeVideo; from ipywidgets import interactive, IntSlider\n",
    "def _play(resize): display(YouTubeVideo('Fgniyw8maWk',width=resize, height=425*resize//1100, rel=0, loop=1))\n",
    "interactive(_play, resize=IntSlider(min=300, max=1100, step=50, value=600, continuous_update=False, readout=False))"
   ]
  },
  {
   "cell_type": "markdown",
   "metadata": {
    "id": "xzoWr0rS_Tf6"
   },
   "source": [
    "# Boolean expressions"
   ]
  },
  {
   "cell_type": "markdown",
   "metadata": {
    "id": "qKXQwYxW_Tf6"
   },
   "source": [
    "The condition in an ```if``` statement is a Boolean expression. That is anything that evaluates to either ```True``` or ```False```, typically the output of **comparison operators**. See [here](http://www.tutorialspoint.com/python/comparison_operators_example.htm) for a list and an example. Here are the main ones:\n",
    "\n",
    "| Operator | Description   |\n",
    "|----------|------------|\n",
    "| ==       | equality   |\n",
    "| !=  | not equal  |\n",
    "| >  or  <   | greater/less than |\n",
    "| >=  or  <= | as above, with equality |\n",
    "\n",
    "Example:"
   ]
  },
  {
   "cell_type": "code",
   "execution_count": null,
   "metadata": {
    "id": "ezi4shrv_Tf6"
   },
   "outputs": [],
   "source": [
    "a=5\n",
    "print(a==5)   # True\n",
    "print(a!=6)   # True\n",
    "print(a!=5)   # False\n",
    "print(3>5)    # False\n",
    "print(5<=a)   # True"
   ]
  },
  {
   "cell_type": "markdown",
   "metadata": {
    "id": "5gi5LlgI_Tf7"
   },
   "source": [
    "The same operators can be applied to strings:"
   ]
  },
  {
   "cell_type": "code",
   "execution_count": null,
   "metadata": {
    "id": "m2uGqzBK_Tf7"
   },
   "outputs": [],
   "source": [
    "a=\"Beast\"\n",
    "b=\"Animal\"\n",
    "print(a>b) # Alphabetical order\n",
    "print(\"a\">\"b\") # Still alphabetical order!"
   ]
  },
  {
   "cell_type": "markdown",
   "metadata": {
    "id": "BAaLJjUR_Tf8"
   },
   "source": [
    "You can combine several comparison operators with each other using **Boolean operators**:\n",
    "\n",
    "| Operator  | Name        | Description                                             |\n",
    "|:-----------:|-------------|---------------------------------------------------------|\n",
    "|  and      | logical AND | True if and only if both operands are true              |\n",
    "|  or       | logical OR  | True if at least one operand is true                    |\n",
    "|  not      | logical NOT | True if operand false and vice-versa                    |\n",
    "\n",
    "Example:"
   ]
  },
  {
   "cell_type": "code",
   "execution_count": null,
   "metadata": {
    "id": "skT2CfcK_Tf9"
   },
   "outputs": [],
   "source": [
    "print((3<2) and (5>4))\n",
    "print((3<2) or  (5>4))\n",
    "print(not (3<2))"
   ]
  },
  {
   "cell_type": "markdown",
   "metadata": {
    "id": "WfovOHJz_Tf9"
   },
   "source": [
    "Note that the comparisons return Boolean values that are combined by the operators. In another example, we may use Boolean operators to act directly on Boolean variables:"
   ]
  },
  {
   "cell_type": "code",
   "execution_count": null,
   "metadata": {
    "id": "wfEUyxqW_Tf9"
   },
   "outputs": [],
   "source": [
    "isGood=True\n",
    "isFast=False\n",
    "isCheap=True\n",
    "# for the mathematically minded, this is computed as (isGood and isFast) and isCheap.\n",
    "# Because the result of the bracket is in this case  False, isCheap is not even evaluated,\n",
    "# which saves some time. We say the \"and\" operator is \"short-circuiting\".\n",
    "isPerfect=isGood and isFast and isCheap\n",
    "print (isPerfect)"
   ]
  },
  {
   "cell_type": "markdown",
   "metadata": {
    "id": "yWyDuUaZ_Tf-"
   },
   "source": [
    "Of course, you normally deal with variables of unknown value. So, putting it all together:"
   ]
  },
  {
   "cell_type": "code",
   "execution_count": null,
   "metadata": {
    "id": "9N6WvI0W_Tf-"
   },
   "outputs": [],
   "source": [
    "kettle_temp=int(input(\"Temperature? \"))\n",
    "tea=input(\"Type of tea? \")\n",
    "if ( ((kettle_temp>=90) and (kettle_temp<95) and (tea==\"green\")) or # open bracket means that...\n",
    "     ((kettle_temp>95) and (tea==\"breakfast\")) ):  # ...this line continues the previous one\n",
    "        print(\"Brew\")\n",
    "else:\n",
    "        print(\"Nope\")"
   ]
  },
  {
   "cell_type": "code",
   "execution_count": null,
   "metadata": {
    "colab": {
     "base_uri": "https://localhost:8080/",
     "height": 298,
     "referenced_widgets": [
      "e010f68893354147a9befd44efd1f500",
      "9d028977d10940bb985a9deac5a6b67e",
      "81015984c45e4a24a8e09725460c6ab7",
      "a5709279a64641b0867c78bf2e0cddcb",
      "6e4e2850fcb940d1a5984db6542f00e5",
      "3bc639c27ed04621be014859d897056b",
      "46958cac6d46482da86894046ec5ef01"
     ]
    },
    "executionInfo": {
     "elapsed": 721,
     "status": "ok",
     "timestamp": 1695222199490,
     "user": {
      "displayName": "Patchy Python",
      "userId": "03971971519308571913"
     },
     "user_tz": -60
    },
    "id": "bg2HENqo_Tf-",
    "outputId": "3424c784-5a49-42ce-fe42-00f47829a92a"
   },
   "outputs": [],
   "source": [
    "# run this cell to show a video, use slider to resize it, type Esc-o to hide it\n",
    "from IPython.display import YouTubeVideo; from ipywidgets import interactive, IntSlider\n",
    "def _play(resize): display(YouTubeVideo('alT2HJSAGeU',width=resize, height=450*resize//1100, rel=0, loop=1))\n",
    "interactive(_play, resize=IntSlider(min=300, max=1100, step=50, value=600, continuous_update=False, readout=False))"
   ]
  },
  {
   "cell_type": "markdown",
   "metadata": {
    "id": "2SFiy-V9_Tf_"
   },
   "source": [
    "# Conditional expressions"
   ]
  },
  {
   "cell_type": "markdown",
   "metadata": {
    "id": "OVKHDe83_Tf_"
   },
   "source": [
    "The ```if```/```else``` constructs explored above are *statements*, and as such do not return any value. Sometimes we would like a shorthand notation for an expression that changes value according to some condition. For instance:"
   ]
  },
  {
   "cell_type": "code",
   "execution_count": null,
   "metadata": {
    "id": "LdES13qK_Tf_"
   },
   "outputs": [],
   "source": [
    "Celsius=False\n",
    "boiling_point=100 if Celsius else 212 # boiling_point=Celsius?100:212\n",
    "freezing_point= 0 if Celsius else 32\n",
    "print(boiling_point)\n",
    "print(freezing_point)"
   ]
  },
  {
   "cell_type": "markdown",
   "metadata": {
    "id": "3qN_w2lh_TgA"
   },
   "source": [
    "Another example (note that here we have to have an else in any case, even if when a>=0 we do not want to change anything - the expression still needs to yield some value):"
   ]
  },
  {
   "cell_type": "code",
   "execution_count": null,
   "metadata": {
    "id": "Ab3xTya0_TgA"
   },
   "outputs": [],
   "source": [
    "a=-1\n",
    "a=-a if a<0 else a # absolute value\n",
    "print(a)"
   ]
  },
  {
   "cell_type": "code",
   "execution_count": null,
   "metadata": {
    "colab": {
     "base_uri": "https://localhost:8080/",
     "height": 260,
     "referenced_widgets": [
      "e1f4ff61161b49608d62b8bb7da47f37",
      "69adf4a0465748f9a05707808d84e0c7",
      "d1d1e1363ea94296b3ab50df60738b65",
      "b40f3f795f76456085b16d890f610985",
      "ed01cae50dce431291b544410bf89e33",
      "17e3565f7b5541d5bd41c0c441eb5d35",
      "2442a57ee2114086a4163c8a3880fe98"
     ]
    },
    "executionInfo": {
     "elapsed": 418,
     "status": "ok",
     "timestamp": 1695404365598,
     "user": {
      "displayName": "Patchy Python",
      "userId": "03971971519308571913"
     },
     "user_tz": -60
    },
    "id": "IwW0paHz_TgA",
    "outputId": "5107de64-3b4e-49ea-8e1c-d7387fe16d60"
   },
   "outputs": [],
   "source": [
    "# run this cell to show a video, use slider to resize it, type Esc-o to hide it\n",
    "from IPython.display import YouTubeVideo; from ipywidgets import interactive, IntSlider\n",
    "def _play(resize): display(YouTubeVideo('2cth_qayfrU',width=resize, height=380*resize//1100, rel=0, loop=1))\n",
    "interactive(_play, resize=IntSlider(min=300, max=1100, step=50, value=600, continuous_update=False, readout=False))"
   ]
  },
  {
   "cell_type": "markdown",
   "metadata": {
    "id": "7MnS-nJr_TgA"
   },
   "source": [
    "# Reminder: list comprehensions"
   ]
  },
  {
   "cell_type": "markdown",
   "metadata": {
    "id": "GY6hWZMM_TgB"
   },
   "source": [
    "We already  encountered a conditional of sorts before:"
   ]
  },
  {
   "cell_type": "code",
   "execution_count": null,
   "metadata": {
    "id": "f-tnA-Xc_TgB"
   },
   "outputs": [],
   "source": [
    "l=list(range(0,10)) # a quick way to build a sequence of numbers\n",
    "print(l)\n",
    "a=[x for x in l if x< 5] # a list comprehension\n",
    "print(a)"
   ]
  },
  {
   "cell_type": "code",
   "execution_count": null,
   "metadata": {
    "colab": {
     "base_uri": "https://localhost:8080/",
     "height": 183,
     "referenced_widgets": [
      "6fdea700efca4defb3d13ffd990f03d4",
      "3d78f2c7655c488da96b135a00ae64bc",
      "56f794023d834928b7a11fd3830992e5",
      "3d51ac67cdd6454d98456e4222c9aff9",
      "8d9d4d30c59e4d299692b1b420e5b0c7",
      "2628bebb4ef64b3dab5025e8fb7c0b58",
      "0155b603c4d640a1a699a84e3fd62af7"
     ]
    },
    "executionInfo": {
     "elapsed": 306,
     "status": "ok",
     "timestamp": 1695404384443,
     "user": {
      "displayName": "Patchy Python",
      "userId": "03971971519308571913"
     },
     "user_tz": -60
    },
    "id": "nt2zNtaD_TgB",
    "outputId": "37d4c67d-46ea-42be-cbf5-c904318fcec7"
   },
   "outputs": [],
   "source": [
    "# run this cell to show a video, use slider to resize it, type Esc-o to hide it\n",
    "from IPython.display import YouTubeVideo; from ipywidgets import interactive, IntSlider\n",
    "def _play(resize): display(YouTubeVideo('Wu4L0A1GHPc',width=resize, height=240*resize//1100, rel=0, loop=1))\n",
    "interactive(_play, resize=IntSlider(min=300, max=1100, step=50, value=600, continuous_update=False, readout=False))"
   ]
  },
  {
   "cell_type": "markdown",
   "metadata": {
    "id": "3UoZPUxW_TgB"
   },
   "source": [
    "**(C) 2014,2025 Fabrizio Smeraldi** ([info@patchypython.com](mailto:info@patchypython.com)), all rights reserved."
   ]
  }
 ],
 "metadata": {
  "colab": {
   "provenance": [
    {
     "file_id": "1Q--DIlcnJ9shFoPhmExbDRjbGZCYchg0",
     "timestamp": 1695313509727
    }
   ]
  },
  "kernelspec": {
   "display_name": "Python 3 (ipykernel)",
   "language": "python",
   "name": "python3"
  },
  "language_info": {
   "codemirror_mode": {
    "name": "ipython",
    "version": 3
   },
   "file_extension": ".py",
   "mimetype": "text/x-python",
   "name": "python",
   "nbconvert_exporter": "python",
   "pygments_lexer": "ipython3",
   "version": "3.12.3"
  },
  "widgets": {
   "application/vnd.jupyter.widget-state+json": {
    "0155b603c4d640a1a699a84e3fd62af7": {
     "model_module": "@jupyter-widgets/base",
     "model_module_version": "1.2.0",
     "model_name": "LayoutModel",
     "state": {
      "_model_module": "@jupyter-widgets/base",
      "_model_module_version": "1.2.0",
      "_model_name": "LayoutModel",
      "_view_count": null,
      "_view_module": "@jupyter-widgets/base",
      "_view_module_version": "1.2.0",
      "_view_name": "LayoutView",
      "align_content": null,
      "align_items": null,
      "align_self": null,
      "border": null,
      "bottom": null,
      "display": null,
      "flex": null,
      "flex_flow": null,
      "grid_area": null,
      "grid_auto_columns": null,
      "grid_auto_flow": null,
      "grid_auto_rows": null,
      "grid_column": null,
      "grid_gap": null,
      "grid_row": null,
      "grid_template_areas": null,
      "grid_template_columns": null,
      "grid_template_rows": null,
      "height": null,
      "justify_content": null,
      "justify_items": null,
      "left": null,
      "margin": null,
      "max_height": null,
      "max_width": null,
      "min_height": null,
      "min_width": null,
      "object_fit": null,
      "object_position": null,
      "order": null,
      "overflow": null,
      "overflow_x": null,
      "overflow_y": null,
      "padding": null,
      "right": null,
      "top": null,
      "visibility": null,
      "width": null
     }
    },
    "0bcbd8467a234d88a610a3d308b467b0": {
     "model_module": "@jupyter-widgets/output",
     "model_module_version": "1.0.0",
     "model_name": "OutputModel",
     "state": {
      "_dom_classes": [],
      "_model_module": "@jupyter-widgets/output",
      "_model_module_version": "1.0.0",
      "_model_name": "OutputModel",
      "_view_count": null,
      "_view_module": "@jupyter-widgets/output",
      "_view_module_version": "1.0.0",
      "_view_name": "OutputView",
      "layout": "IPY_MODEL_e2b5d7d9f6ca48edb0d5b4386efc49d1",
      "msg_id": "",
      "outputs": [
       {
        "data": {
         "image/jpeg": "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\n",
         "text/html": "\n        <iframe\n            width=\"600\"\n            height=\"231\"\n            src=\"https://www.youtube.com/embed/Fgniyw8maWk?rel=0&loop=1\"\n            frameborder=\"0\"\n            allowfullscreen\n            \n        ></iframe>\n        ",
         "text/plain": "<IPython.lib.display.YouTubeVideo at 0x784dcf31b310>"
        },
        "metadata": {},
        "output_type": "display_data"
       }
      ]
     }
    },
    "136b1864c3a94b389224c63976c61b4d": {
     "model_module": "@jupyter-widgets/base",
     "model_module_version": "1.2.0",
     "model_name": "LayoutModel",
     "state": {
      "_model_module": "@jupyter-widgets/base",
      "_model_module_version": "1.2.0",
      "_model_name": "LayoutModel",
      "_view_count": null,
      "_view_module": "@jupyter-widgets/base",
      "_view_module_version": "1.2.0",
      "_view_name": "LayoutView",
      "align_content": null,
      "align_items": null,
      "align_self": null,
      "border": null,
      "bottom": null,
      "display": null,
      "flex": null,
      "flex_flow": null,
      "grid_area": null,
      "grid_auto_columns": null,
      "grid_auto_flow": null,
      "grid_auto_rows": null,
      "grid_column": null,
      "grid_gap": null,
      "grid_row": null,
      "grid_template_areas": null,
      "grid_template_columns": null,
      "grid_template_rows": null,
      "height": null,
      "justify_content": null,
      "justify_items": null,
      "left": null,
      "margin": null,
      "max_height": null,
      "max_width": null,
      "min_height": null,
      "min_width": null,
      "object_fit": null,
      "object_position": null,
      "order": null,
      "overflow": null,
      "overflow_x": null,
      "overflow_y": null,
      "padding": null,
      "right": null,
      "top": null,
      "visibility": null,
      "width": null
     }
    },
    "15f7df9f4bae43099730be175a568848": {
     "model_module": "@jupyter-widgets/controls",
     "model_module_version": "1.5.0",
     "model_name": "IntSliderModel",
     "state": {
      "_dom_classes": [],
      "_model_module": "@jupyter-widgets/controls",
      "_model_module_version": "1.5.0",
      "_model_name": "IntSliderModel",
      "_view_count": null,
      "_view_module": "@jupyter-widgets/controls",
      "_view_module_version": "1.5.0",
      "_view_name": "IntSliderView",
      "continuous_update": false,
      "description": "resize",
      "description_tooltip": null,
      "disabled": false,
      "layout": "IPY_MODEL_8926bcc4d4554ba1ae99f1fc63899e3d",
      "max": 1100,
      "min": 300,
      "orientation": "horizontal",
      "readout": false,
      "readout_format": "d",
      "step": 50,
      "style": "IPY_MODEL_c0e645a03f184db686cb802706264f8b",
      "value": 600
     }
    },
    "17e3565f7b5541d5bd41c0c441eb5d35": {
     "model_module": "@jupyter-widgets/controls",
     "model_module_version": "1.5.0",
     "model_name": "SliderStyleModel",
     "state": {
      "_model_module": "@jupyter-widgets/controls",
      "_model_module_version": "1.5.0",
      "_model_name": "SliderStyleModel",
      "_view_count": null,
      "_view_module": "@jupyter-widgets/base",
      "_view_module_version": "1.2.0",
      "_view_name": "StyleView",
      "description_width": "",
      "handle_color": null
     }
    },
    "2442a57ee2114086a4163c8a3880fe98": {
     "model_module": "@jupyter-widgets/base",
     "model_module_version": "1.2.0",
     "model_name": "LayoutModel",
     "state": {
      "_model_module": "@jupyter-widgets/base",
      "_model_module_version": "1.2.0",
      "_model_name": "LayoutModel",
      "_view_count": null,
      "_view_module": "@jupyter-widgets/base",
      "_view_module_version": "1.2.0",
      "_view_name": "LayoutView",
      "align_content": null,
      "align_items": null,
      "align_self": null,
      "border": null,
      "bottom": null,
      "display": null,
      "flex": null,
      "flex_flow": null,
      "grid_area": null,
      "grid_auto_columns": null,
      "grid_auto_flow": null,
      "grid_auto_rows": null,
      "grid_column": null,
      "grid_gap": null,
      "grid_row": null,
      "grid_template_areas": null,
      "grid_template_columns": null,
      "grid_template_rows": null,
      "height": null,
      "justify_content": null,
      "justify_items": null,
      "left": null,
      "margin": null,
      "max_height": null,
      "max_width": null,
      "min_height": null,
      "min_width": null,
      "object_fit": null,
      "object_position": null,
      "order": null,
      "overflow": null,
      "overflow_x": null,
      "overflow_y": null,
      "padding": null,
      "right": null,
      "top": null,
      "visibility": null,
      "width": null
     }
    },
    "2628bebb4ef64b3dab5025e8fb7c0b58": {
     "model_module": "@jupyter-widgets/controls",
     "model_module_version": "1.5.0",
     "model_name": "SliderStyleModel",
     "state": {
      "_model_module": "@jupyter-widgets/controls",
      "_model_module_version": "1.5.0",
      "_model_name": "SliderStyleModel",
      "_view_count": null,
      "_view_module": "@jupyter-widgets/base",
      "_view_module_version": "1.2.0",
      "_view_name": "StyleView",
      "description_width": "",
      "handle_color": null
     }
    },
    "2b36381961a34371941671aee3138377": {
     "model_module": "@jupyter-widgets/base",
     "model_module_version": "1.2.0",
     "model_name": "LayoutModel",
     "state": {
      "_model_module": "@jupyter-widgets/base",
      "_model_module_version": "1.2.0",
      "_model_name": "LayoutModel",
      "_view_count": null,
      "_view_module": "@jupyter-widgets/base",
      "_view_module_version": "1.2.0",
      "_view_name": "LayoutView",
      "align_content": null,
      "align_items": null,
      "align_self": null,
      "border": null,
      "bottom": null,
      "display": null,
      "flex": null,
      "flex_flow": null,
      "grid_area": null,
      "grid_auto_columns": null,
      "grid_auto_flow": null,
      "grid_auto_rows": null,
      "grid_column": null,
      "grid_gap": null,
      "grid_row": null,
      "grid_template_areas": null,
      "grid_template_columns": null,
      "grid_template_rows": null,
      "height": null,
      "justify_content": null,
      "justify_items": null,
      "left": null,
      "margin": null,
      "max_height": null,
      "max_width": null,
      "min_height": null,
      "min_width": null,
      "object_fit": null,
      "object_position": null,
      "order": null,
      "overflow": null,
      "overflow_x": null,
      "overflow_y": null,
      "padding": null,
      "right": null,
      "top": null,
      "visibility": null,
      "width": null
     }
    },
    "331bf510b0a3470385712086a93a2fc9": {
     "model_module": "@jupyter-widgets/controls",
     "model_module_version": "1.5.0",
     "model_name": "IntSliderModel",
     "state": {
      "_dom_classes": [],
      "_model_module": "@jupyter-widgets/controls",
      "_model_module_version": "1.5.0",
      "_model_name": "IntSliderModel",
      "_view_count": null,
      "_view_module": "@jupyter-widgets/controls",
      "_view_module_version": "1.5.0",
      "_view_name": "IntSliderView",
      "continuous_update": false,
      "description": "resize",
      "description_tooltip": null,
      "disabled": false,
      "layout": "IPY_MODEL_2b36381961a34371941671aee3138377",
      "max": 1100,
      "min": 300,
      "orientation": "horizontal",
      "readout": false,
      "readout_format": "d",
      "step": 50,
      "style": "IPY_MODEL_82bb558a821542acbc80a3e9dfbf8cd4",
      "value": 600
     }
    },
    "3bc639c27ed04621be014859d897056b": {
     "model_module": "@jupyter-widgets/controls",
     "model_module_version": "1.5.0",
     "model_name": "SliderStyleModel",
     "state": {
      "_model_module": "@jupyter-widgets/controls",
      "_model_module_version": "1.5.0",
      "_model_name": "SliderStyleModel",
      "_view_count": null,
      "_view_module": "@jupyter-widgets/base",
      "_view_module_version": "1.2.0",
      "_view_name": "StyleView",
      "description_width": "",
      "handle_color": null
     }
    },
    "3d51ac67cdd6454d98456e4222c9aff9": {
     "model_module": "@jupyter-widgets/base",
     "model_module_version": "1.2.0",
     "model_name": "LayoutModel",
     "state": {
      "_model_module": "@jupyter-widgets/base",
      "_model_module_version": "1.2.0",
      "_model_name": "LayoutModel",
      "_view_count": null,
      "_view_module": "@jupyter-widgets/base",
      "_view_module_version": "1.2.0",
      "_view_name": "LayoutView",
      "align_content": null,
      "align_items": null,
      "align_self": null,
      "border": null,
      "bottom": null,
      "display": null,
      "flex": null,
      "flex_flow": null,
      "grid_area": null,
      "grid_auto_columns": null,
      "grid_auto_flow": null,
      "grid_auto_rows": null,
      "grid_column": null,
      "grid_gap": null,
      "grid_row": null,
      "grid_template_areas": null,
      "grid_template_columns": null,
      "grid_template_rows": null,
      "height": null,
      "justify_content": null,
      "justify_items": null,
      "left": null,
      "margin": null,
      "max_height": null,
      "max_width": null,
      "min_height": null,
      "min_width": null,
      "object_fit": null,
      "object_position": null,
      "order": null,
      "overflow": null,
      "overflow_x": null,
      "overflow_y": null,
      "padding": null,
      "right": null,
      "top": null,
      "visibility": null,
      "width": null
     }
    },
    "3d78f2c7655c488da96b135a00ae64bc": {
     "model_module": "@jupyter-widgets/controls",
     "model_module_version": "1.5.0",
     "model_name": "IntSliderModel",
     "state": {
      "_dom_classes": [],
      "_model_module": "@jupyter-widgets/controls",
      "_model_module_version": "1.5.0",
      "_model_name": "IntSliderModel",
      "_view_count": null,
      "_view_module": "@jupyter-widgets/controls",
      "_view_module_version": "1.5.0",
      "_view_name": "IntSliderView",
      "continuous_update": false,
      "description": "resize",
      "description_tooltip": null,
      "disabled": false,
      "layout": "IPY_MODEL_8d9d4d30c59e4d299692b1b420e5b0c7",
      "max": 1100,
      "min": 300,
      "orientation": "horizontal",
      "readout": false,
      "readout_format": "d",
      "step": 50,
      "style": "IPY_MODEL_2628bebb4ef64b3dab5025e8fb7c0b58",
      "value": 600
     }
    },
    "46958cac6d46482da86894046ec5ef01": {
     "model_module": "@jupyter-widgets/base",
     "model_module_version": "1.2.0",
     "model_name": "LayoutModel",
     "state": {
      "_model_module": "@jupyter-widgets/base",
      "_model_module_version": "1.2.0",
      "_model_name": "LayoutModel",
      "_view_count": null,
      "_view_module": "@jupyter-widgets/base",
      "_view_module_version": "1.2.0",
      "_view_name": "LayoutView",
      "align_content": null,
      "align_items": null,
      "align_self": null,
      "border": null,
      "bottom": null,
      "display": null,
      "flex": null,
      "flex_flow": null,
      "grid_area": null,
      "grid_auto_columns": null,
      "grid_auto_flow": null,
      "grid_auto_rows": null,
      "grid_column": null,
      "grid_gap": null,
      "grid_row": null,
      "grid_template_areas": null,
      "grid_template_columns": null,
      "grid_template_rows": null,
      "height": null,
      "justify_content": null,
      "justify_items": null,
      "left": null,
      "margin": null,
      "max_height": null,
      "max_width": null,
      "min_height": null,
      "min_width": null,
      "object_fit": null,
      "object_position": null,
      "order": null,
      "overflow": null,
      "overflow_x": null,
      "overflow_y": null,
      "padding": null,
      "right": null,
      "top": null,
      "visibility": null,
      "width": null
     }
    },
    "4e943859299643cd94981384efb768b2": {
     "model_module": "@jupyter-widgets/controls",
     "model_module_version": "1.5.0",
     "model_name": "VBoxModel",
     "state": {
      "_dom_classes": [
       "widget-interact"
      ],
      "_model_module": "@jupyter-widgets/controls",
      "_model_module_version": "1.5.0",
      "_model_name": "VBoxModel",
      "_view_count": null,
      "_view_module": "@jupyter-widgets/controls",
      "_view_module_version": "1.5.0",
      "_view_name": "VBoxView",
      "box_style": "",
      "children": [
       "IPY_MODEL_af914b6f9f4d40a69b1203e36fe5d014",
       "IPY_MODEL_0bcbd8467a234d88a610a3d308b467b0"
      ],
      "layout": "IPY_MODEL_52fc4cd5f45048dca7d81c3b567c3cee"
     }
    },
    "52fc4cd5f45048dca7d81c3b567c3cee": {
     "model_module": "@jupyter-widgets/base",
     "model_module_version": "1.2.0",
     "model_name": "LayoutModel",
     "state": {
      "_model_module": "@jupyter-widgets/base",
      "_model_module_version": "1.2.0",
      "_model_name": "LayoutModel",
      "_view_count": null,
      "_view_module": "@jupyter-widgets/base",
      "_view_module_version": "1.2.0",
      "_view_name": "LayoutView",
      "align_content": null,
      "align_items": null,
      "align_self": null,
      "border": null,
      "bottom": null,
      "display": null,
      "flex": null,
      "flex_flow": null,
      "grid_area": null,
      "grid_auto_columns": null,
      "grid_auto_flow": null,
      "grid_auto_rows": null,
      "grid_column": null,
      "grid_gap": null,
      "grid_row": null,
      "grid_template_areas": null,
      "grid_template_columns": null,
      "grid_template_rows": null,
      "height": null,
      "justify_content": null,
      "justify_items": null,
      "left": null,
      "margin": null,
      "max_height": null,
      "max_width": null,
      "min_height": null,
      "min_width": null,
      "object_fit": null,
      "object_position": null,
      "order": null,
      "overflow": null,
      "overflow_x": null,
      "overflow_y": null,
      "padding": null,
      "right": null,
      "top": null,
      "visibility": null,
      "width": null
     }
    },
    "56f794023d834928b7a11fd3830992e5": {
     "model_module": "@jupyter-widgets/output",
     "model_module_version": "1.0.0",
     "model_name": "OutputModel",
     "state": {
      "_dom_classes": [],
      "_model_module": "@jupyter-widgets/output",
      "_model_module_version": "1.0.0",
      "_model_name": "OutputModel",
      "_view_count": null,
      "_view_module": "@jupyter-widgets/output",
      "_view_module_version": "1.0.0",
      "_view_name": "OutputView",
      "layout": "IPY_MODEL_0155b603c4d640a1a699a84e3fd62af7",
      "msg_id": "",
      "outputs": [
       {
        "data": {
         "image/jpeg": "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\n",
         "text/html": "\n        <iframe\n            width=\"600\"\n            height=\"130\"\n            src=\"https://www.youtube.com/embed/Wu4L0A1GHPc?rel=0&loop=1\"\n            frameborder=\"0\"\n            allowfullscreen\n            \n        ></iframe>\n        ",
         "text/plain": "<IPython.lib.display.YouTubeVideo at 0x784dcc47b9a0>"
        },
        "metadata": {},
        "output_type": "display_data"
       }
      ]
     }
    },
    "6150342181e6487fbc9bf03dc3f976c4": {
     "model_module": "@jupyter-widgets/output",
     "model_module_version": "1.0.0",
     "model_name": "OutputModel",
     "state": {
      "_dom_classes": [],
      "_model_module": "@jupyter-widgets/output",
      "_model_module_version": "1.0.0",
      "_model_name": "OutputModel",
      "_view_count": null,
      "_view_module": "@jupyter-widgets/output",
      "_view_module_version": "1.0.0",
      "_view_name": "OutputView",
      "layout": "IPY_MODEL_136b1864c3a94b389224c63976c61b4d",
      "msg_id": "",
      "outputs": [
       {
        "data": {
         "image/jpeg": "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\n",
         "text/html": "\n        <iframe\n            width=\"600\"\n            height=\"259\"\n            src=\"https://www.youtube.com/embed/hDXr5uEq4a4?rel=0&loop=1\"\n            frameborder=\"0\"\n            allowfullscreen\n            \n        ></iframe>\n        ",
         "text/plain": "<IPython.lib.display.YouTubeVideo at 0x79c4457438b0>"
        },
        "metadata": {},
        "output_type": "display_data"
       }
      ]
     }
    },
    "69adf4a0465748f9a05707808d84e0c7": {
     "model_module": "@jupyter-widgets/controls",
     "model_module_version": "1.5.0",
     "model_name": "IntSliderModel",
     "state": {
      "_dom_classes": [],
      "_model_module": "@jupyter-widgets/controls",
      "_model_module_version": "1.5.0",
      "_model_name": "IntSliderModel",
      "_view_count": null,
      "_view_module": "@jupyter-widgets/controls",
      "_view_module_version": "1.5.0",
      "_view_name": "IntSliderView",
      "continuous_update": false,
      "description": "resize",
      "description_tooltip": null,
      "disabled": false,
      "layout": "IPY_MODEL_ed01cae50dce431291b544410bf89e33",
      "max": 1100,
      "min": 300,
      "orientation": "horizontal",
      "readout": false,
      "readout_format": "d",
      "step": 50,
      "style": "IPY_MODEL_17e3565f7b5541d5bd41c0c441eb5d35",
      "value": 600
     }
    },
    "6e4e2850fcb940d1a5984db6542f00e5": {
     "model_module": "@jupyter-widgets/base",
     "model_module_version": "1.2.0",
     "model_name": "LayoutModel",
     "state": {
      "_model_module": "@jupyter-widgets/base",
      "_model_module_version": "1.2.0",
      "_model_name": "LayoutModel",
      "_view_count": null,
      "_view_module": "@jupyter-widgets/base",
      "_view_module_version": "1.2.0",
      "_view_name": "LayoutView",
      "align_content": null,
      "align_items": null,
      "align_self": null,
      "border": null,
      "bottom": null,
      "display": null,
      "flex": null,
      "flex_flow": null,
      "grid_area": null,
      "grid_auto_columns": null,
      "grid_auto_flow": null,
      "grid_auto_rows": null,
      "grid_column": null,
      "grid_gap": null,
      "grid_row": null,
      "grid_template_areas": null,
      "grid_template_columns": null,
      "grid_template_rows": null,
      "height": null,
      "justify_content": null,
      "justify_items": null,
      "left": null,
      "margin": null,
      "max_height": null,
      "max_width": null,
      "min_height": null,
      "min_width": null,
      "object_fit": null,
      "object_position": null,
      "order": null,
      "overflow": null,
      "overflow_x": null,
      "overflow_y": null,
      "padding": null,
      "right": null,
      "top": null,
      "visibility": null,
      "width": null
     }
    },
    "6fdea700efca4defb3d13ffd990f03d4": {
     "model_module": "@jupyter-widgets/controls",
     "model_module_version": "1.5.0",
     "model_name": "VBoxModel",
     "state": {
      "_dom_classes": [
       "widget-interact"
      ],
      "_model_module": "@jupyter-widgets/controls",
      "_model_module_version": "1.5.0",
      "_model_name": "VBoxModel",
      "_view_count": null,
      "_view_module": "@jupyter-widgets/controls",
      "_view_module_version": "1.5.0",
      "_view_name": "VBoxView",
      "box_style": "",
      "children": [
       "IPY_MODEL_3d78f2c7655c488da96b135a00ae64bc",
       "IPY_MODEL_56f794023d834928b7a11fd3830992e5"
      ],
      "layout": "IPY_MODEL_3d51ac67cdd6454d98456e4222c9aff9"
     }
    },
    "80dbfa7d8301486aa5ed01b58fc8b464": {
     "model_module": "@jupyter-widgets/base",
     "model_module_version": "1.2.0",
     "model_name": "LayoutModel",
     "state": {
      "_model_module": "@jupyter-widgets/base",
      "_model_module_version": "1.2.0",
      "_model_name": "LayoutModel",
      "_view_count": null,
      "_view_module": "@jupyter-widgets/base",
      "_view_module_version": "1.2.0",
      "_view_name": "LayoutView",
      "align_content": null,
      "align_items": null,
      "align_self": null,
      "border": null,
      "bottom": null,
      "display": null,
      "flex": null,
      "flex_flow": null,
      "grid_area": null,
      "grid_auto_columns": null,
      "grid_auto_flow": null,
      "grid_auto_rows": null,
      "grid_column": null,
      "grid_gap": null,
      "grid_row": null,
      "grid_template_areas": null,
      "grid_template_columns": null,
      "grid_template_rows": null,
      "height": null,
      "justify_content": null,
      "justify_items": null,
      "left": null,
      "margin": null,
      "max_height": null,
      "max_width": null,
      "min_height": null,
      "min_width": null,
      "object_fit": null,
      "object_position": null,
      "order": null,
      "overflow": null,
      "overflow_x": null,
      "overflow_y": null,
      "padding": null,
      "right": null,
      "top": null,
      "visibility": null,
      "width": null
     }
    },
    "81015984c45e4a24a8e09725460c6ab7": {
     "model_module": "@jupyter-widgets/output",
     "model_module_version": "1.0.0",
     "model_name": "OutputModel",
     "state": {
      "_dom_classes": [],
      "_model_module": "@jupyter-widgets/output",
      "_model_module_version": "1.0.0",
      "_model_name": "OutputModel",
      "_view_count": null,
      "_view_module": "@jupyter-widgets/output",
      "_view_module_version": "1.0.0",
      "_view_name": "OutputView",
      "layout": "IPY_MODEL_46958cac6d46482da86894046ec5ef01",
      "msg_id": "",
      "outputs": [
       {
        "data": {
         "image/jpeg": "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\n",
         "text/html": "\n        <iframe\n            width=\"600\"\n            height=\"245\"\n            src=\"https://www.youtube.com/embed/alT2HJSAGeU?rel=0&loop=1\"\n            frameborder=\"0\"\n            allowfullscreen\n            \n        ></iframe>\n        ",
         "text/plain": "<IPython.lib.display.YouTubeVideo at 0x79c445740160>"
        },
        "metadata": {},
        "output_type": "display_data"
       }
      ]
     }
    },
    "82bb558a821542acbc80a3e9dfbf8cd4": {
     "model_module": "@jupyter-widgets/controls",
     "model_module_version": "1.5.0",
     "model_name": "SliderStyleModel",
     "state": {
      "_model_module": "@jupyter-widgets/controls",
      "_model_module_version": "1.5.0",
      "_model_name": "SliderStyleModel",
      "_view_count": null,
      "_view_module": "@jupyter-widgets/base",
      "_view_module_version": "1.2.0",
      "_view_name": "StyleView",
      "description_width": "",
      "handle_color": null
     }
    },
    "8926bcc4d4554ba1ae99f1fc63899e3d": {
     "model_module": "@jupyter-widgets/base",
     "model_module_version": "1.2.0",
     "model_name": "LayoutModel",
     "state": {
      "_model_module": "@jupyter-widgets/base",
      "_model_module_version": "1.2.0",
      "_model_name": "LayoutModel",
      "_view_count": null,
      "_view_module": "@jupyter-widgets/base",
      "_view_module_version": "1.2.0",
      "_view_name": "LayoutView",
      "align_content": null,
      "align_items": null,
      "align_self": null,
      "border": null,
      "bottom": null,
      "display": null,
      "flex": null,
      "flex_flow": null,
      "grid_area": null,
      "grid_auto_columns": null,
      "grid_auto_flow": null,
      "grid_auto_rows": null,
      "grid_column": null,
      "grid_gap": null,
      "grid_row": null,
      "grid_template_areas": null,
      "grid_template_columns": null,
      "grid_template_rows": null,
      "height": null,
      "justify_content": null,
      "justify_items": null,
      "left": null,
      "margin": null,
      "max_height": null,
      "max_width": null,
      "min_height": null,
      "min_width": null,
      "object_fit": null,
      "object_position": null,
      "order": null,
      "overflow": null,
      "overflow_x": null,
      "overflow_y": null,
      "padding": null,
      "right": null,
      "top": null,
      "visibility": null,
      "width": null
     }
    },
    "8d9d4d30c59e4d299692b1b420e5b0c7": {
     "model_module": "@jupyter-widgets/base",
     "model_module_version": "1.2.0",
     "model_name": "LayoutModel",
     "state": {
      "_model_module": "@jupyter-widgets/base",
      "_model_module_version": "1.2.0",
      "_model_name": "LayoutModel",
      "_view_count": null,
      "_view_module": "@jupyter-widgets/base",
      "_view_module_version": "1.2.0",
      "_view_name": "LayoutView",
      "align_content": null,
      "align_items": null,
      "align_self": null,
      "border": null,
      "bottom": null,
      "display": null,
      "flex": null,
      "flex_flow": null,
      "grid_area": null,
      "grid_auto_columns": null,
      "grid_auto_flow": null,
      "grid_auto_rows": null,
      "grid_column": null,
      "grid_gap": null,
      "grid_row": null,
      "grid_template_areas": null,
      "grid_template_columns": null,
      "grid_template_rows": null,
      "height": null,
      "justify_content": null,
      "justify_items": null,
      "left": null,
      "margin": null,
      "max_height": null,
      "max_width": null,
      "min_height": null,
      "min_width": null,
      "object_fit": null,
      "object_position": null,
      "order": null,
      "overflow": null,
      "overflow_x": null,
      "overflow_y": null,
      "padding": null,
      "right": null,
      "top": null,
      "visibility": null,
      "width": null
     }
    },
    "9d028977d10940bb985a9deac5a6b67e": {
     "model_module": "@jupyter-widgets/controls",
     "model_module_version": "1.5.0",
     "model_name": "IntSliderModel",
     "state": {
      "_dom_classes": [],
      "_model_module": "@jupyter-widgets/controls",
      "_model_module_version": "1.5.0",
      "_model_name": "IntSliderModel",
      "_view_count": null,
      "_view_module": "@jupyter-widgets/controls",
      "_view_module_version": "1.5.0",
      "_view_name": "IntSliderView",
      "continuous_update": false,
      "description": "resize",
      "description_tooltip": null,
      "disabled": false,
      "layout": "IPY_MODEL_6e4e2850fcb940d1a5984db6542f00e5",
      "max": 1100,
      "min": 300,
      "orientation": "horizontal",
      "readout": false,
      "readout_format": "d",
      "step": 50,
      "style": "IPY_MODEL_3bc639c27ed04621be014859d897056b",
      "value": 600
     }
    },
    "a5709279a64641b0867c78bf2e0cddcb": {
     "model_module": "@jupyter-widgets/base",
     "model_module_version": "1.2.0",
     "model_name": "LayoutModel",
     "state": {
      "_model_module": "@jupyter-widgets/base",
      "_model_module_version": "1.2.0",
      "_model_name": "LayoutModel",
      "_view_count": null,
      "_view_module": "@jupyter-widgets/base",
      "_view_module_version": "1.2.0",
      "_view_name": "LayoutView",
      "align_content": null,
      "align_items": null,
      "align_self": null,
      "border": null,
      "bottom": null,
      "display": null,
      "flex": null,
      "flex_flow": null,
      "grid_area": null,
      "grid_auto_columns": null,
      "grid_auto_flow": null,
      "grid_auto_rows": null,
      "grid_column": null,
      "grid_gap": null,
      "grid_row": null,
      "grid_template_areas": null,
      "grid_template_columns": null,
      "grid_template_rows": null,
      "height": null,
      "justify_content": null,
      "justify_items": null,
      "left": null,
      "margin": null,
      "max_height": null,
      "max_width": null,
      "min_height": null,
      "min_width": null,
      "object_fit": null,
      "object_position": null,
      "order": null,
      "overflow": null,
      "overflow_x": null,
      "overflow_y": null,
      "padding": null,
      "right": null,
      "top": null,
      "visibility": null,
      "width": null
     }
    },
    "af914b6f9f4d40a69b1203e36fe5d014": {
     "model_module": "@jupyter-widgets/controls",
     "model_module_version": "1.5.0",
     "model_name": "IntSliderModel",
     "state": {
      "_dom_classes": [],
      "_model_module": "@jupyter-widgets/controls",
      "_model_module_version": "1.5.0",
      "_model_name": "IntSliderModel",
      "_view_count": null,
      "_view_module": "@jupyter-widgets/controls",
      "_view_module_version": "1.5.0",
      "_view_name": "IntSliderView",
      "continuous_update": false,
      "description": "resize",
      "description_tooltip": null,
      "disabled": false,
      "layout": "IPY_MODEL_cb3ba27acff0410a81c6249362a65385",
      "max": 1100,
      "min": 300,
      "orientation": "horizontal",
      "readout": false,
      "readout_format": "d",
      "step": 50,
      "style": "IPY_MODEL_e3fe010cde3a46eb8a80b21e12289150",
      "value": 600
     }
    },
    "b3440ec10c2b4c43a16c5d919825d8a1": {
     "model_module": "@jupyter-widgets/controls",
     "model_module_version": "1.5.0",
     "model_name": "VBoxModel",
     "state": {
      "_dom_classes": [
       "widget-interact"
      ],
      "_model_module": "@jupyter-widgets/controls",
      "_model_module_version": "1.5.0",
      "_model_name": "VBoxModel",
      "_view_count": null,
      "_view_module": "@jupyter-widgets/controls",
      "_view_module_version": "1.5.0",
      "_view_name": "VBoxView",
      "box_style": "",
      "children": [
       "IPY_MODEL_15f7df9f4bae43099730be175a568848",
       "IPY_MODEL_6150342181e6487fbc9bf03dc3f976c4"
      ],
      "layout": "IPY_MODEL_c2a065a0aa974efda271dca29a8ac303"
     }
    },
    "b40f3f795f76456085b16d890f610985": {
     "model_module": "@jupyter-widgets/base",
     "model_module_version": "1.2.0",
     "model_name": "LayoutModel",
     "state": {
      "_model_module": "@jupyter-widgets/base",
      "_model_module_version": "1.2.0",
      "_model_name": "LayoutModel",
      "_view_count": null,
      "_view_module": "@jupyter-widgets/base",
      "_view_module_version": "1.2.0",
      "_view_name": "LayoutView",
      "align_content": null,
      "align_items": null,
      "align_self": null,
      "border": null,
      "bottom": null,
      "display": null,
      "flex": null,
      "flex_flow": null,
      "grid_area": null,
      "grid_auto_columns": null,
      "grid_auto_flow": null,
      "grid_auto_rows": null,
      "grid_column": null,
      "grid_gap": null,
      "grid_row": null,
      "grid_template_areas": null,
      "grid_template_columns": null,
      "grid_template_rows": null,
      "height": null,
      "justify_content": null,
      "justify_items": null,
      "left": null,
      "margin": null,
      "max_height": null,
      "max_width": null,
      "min_height": null,
      "min_width": null,
      "object_fit": null,
      "object_position": null,
      "order": null,
      "overflow": null,
      "overflow_x": null,
      "overflow_y": null,
      "padding": null,
      "right": null,
      "top": null,
      "visibility": null,
      "width": null
     }
    },
    "bc3c87fdcf1c41db834c9d09384c8c09": {
     "model_module": "@jupyter-widgets/output",
     "model_module_version": "1.0.0",
     "model_name": "OutputModel",
     "state": {
      "_dom_classes": [],
      "_model_module": "@jupyter-widgets/output",
      "_model_module_version": "1.0.0",
      "_model_name": "OutputModel",
      "_view_count": null,
      "_view_module": "@jupyter-widgets/output",
      "_view_module_version": "1.0.0",
      "_view_name": "OutputView",
      "layout": "IPY_MODEL_e16e6643b0a54b75847716e2c994d5c7",
      "msg_id": "",
      "outputs": [
       {
        "data": {
         "image/jpeg": "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\n",
         "text/html": "\n        <iframe\n            width=\"600\"\n            height=\"174\"\n            src=\"https://www.youtube.com/embed/oZqRfXvJBDw?rel=0&loop=1\"\n            frameborder=\"0\"\n            allowfullscreen\n            \n        ></iframe>\n        ",
         "text/plain": "<IPython.lib.display.YouTubeVideo at 0x79c445741120>"
        },
        "metadata": {},
        "output_type": "display_data"
       }
      ]
     }
    },
    "c0e645a03f184db686cb802706264f8b": {
     "model_module": "@jupyter-widgets/controls",
     "model_module_version": "1.5.0",
     "model_name": "SliderStyleModel",
     "state": {
      "_model_module": "@jupyter-widgets/controls",
      "_model_module_version": "1.5.0",
      "_model_name": "SliderStyleModel",
      "_view_count": null,
      "_view_module": "@jupyter-widgets/base",
      "_view_module_version": "1.2.0",
      "_view_name": "StyleView",
      "description_width": "",
      "handle_color": null
     }
    },
    "c2a065a0aa974efda271dca29a8ac303": {
     "model_module": "@jupyter-widgets/base",
     "model_module_version": "1.2.0",
     "model_name": "LayoutModel",
     "state": {
      "_model_module": "@jupyter-widgets/base",
      "_model_module_version": "1.2.0",
      "_model_name": "LayoutModel",
      "_view_count": null,
      "_view_module": "@jupyter-widgets/base",
      "_view_module_version": "1.2.0",
      "_view_name": "LayoutView",
      "align_content": null,
      "align_items": null,
      "align_self": null,
      "border": null,
      "bottom": null,
      "display": null,
      "flex": null,
      "flex_flow": null,
      "grid_area": null,
      "grid_auto_columns": null,
      "grid_auto_flow": null,
      "grid_auto_rows": null,
      "grid_column": null,
      "grid_gap": null,
      "grid_row": null,
      "grid_template_areas": null,
      "grid_template_columns": null,
      "grid_template_rows": null,
      "height": null,
      "justify_content": null,
      "justify_items": null,
      "left": null,
      "margin": null,
      "max_height": null,
      "max_width": null,
      "min_height": null,
      "min_width": null,
      "object_fit": null,
      "object_position": null,
      "order": null,
      "overflow": null,
      "overflow_x": null,
      "overflow_y": null,
      "padding": null,
      "right": null,
      "top": null,
      "visibility": null,
      "width": null
     }
    },
    "cb3ba27acff0410a81c6249362a65385": {
     "model_module": "@jupyter-widgets/base",
     "model_module_version": "1.2.0",
     "model_name": "LayoutModel",
     "state": {
      "_model_module": "@jupyter-widgets/base",
      "_model_module_version": "1.2.0",
      "_model_name": "LayoutModel",
      "_view_count": null,
      "_view_module": "@jupyter-widgets/base",
      "_view_module_version": "1.2.0",
      "_view_name": "LayoutView",
      "align_content": null,
      "align_items": null,
      "align_self": null,
      "border": null,
      "bottom": null,
      "display": null,
      "flex": null,
      "flex_flow": null,
      "grid_area": null,
      "grid_auto_columns": null,
      "grid_auto_flow": null,
      "grid_auto_rows": null,
      "grid_column": null,
      "grid_gap": null,
      "grid_row": null,
      "grid_template_areas": null,
      "grid_template_columns": null,
      "grid_template_rows": null,
      "height": null,
      "justify_content": null,
      "justify_items": null,
      "left": null,
      "margin": null,
      "max_height": null,
      "max_width": null,
      "min_height": null,
      "min_width": null,
      "object_fit": null,
      "object_position": null,
      "order": null,
      "overflow": null,
      "overflow_x": null,
      "overflow_y": null,
      "padding": null,
      "right": null,
      "top": null,
      "visibility": null,
      "width": null
     }
    },
    "d1d1e1363ea94296b3ab50df60738b65": {
     "model_module": "@jupyter-widgets/output",
     "model_module_version": "1.0.0",
     "model_name": "OutputModel",
     "state": {
      "_dom_classes": [],
      "_model_module": "@jupyter-widgets/output",
      "_model_module_version": "1.0.0",
      "_model_name": "OutputModel",
      "_view_count": null,
      "_view_module": "@jupyter-widgets/output",
      "_view_module_version": "1.0.0",
      "_view_name": "OutputView",
      "layout": "IPY_MODEL_2442a57ee2114086a4163c8a3880fe98",
      "msg_id": "",
      "outputs": [
       {
        "data": {
         "image/jpeg": "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\n",
         "text/html": "\n        <iframe\n            width=\"600\"\n            height=\"207\"\n            src=\"https://www.youtube.com/embed/2cth_qayfrU?rel=0&loop=1\"\n            frameborder=\"0\"\n            allowfullscreen\n            \n        ></iframe>\n        ",
         "text/plain": "<IPython.lib.display.YouTubeVideo at 0x784dced7a230>"
        },
        "metadata": {},
        "output_type": "display_data"
       }
      ]
     }
    },
    "e010f68893354147a9befd44efd1f500": {
     "model_module": "@jupyter-widgets/controls",
     "model_module_version": "1.5.0",
     "model_name": "VBoxModel",
     "state": {
      "_dom_classes": [
       "widget-interact"
      ],
      "_model_module": "@jupyter-widgets/controls",
      "_model_module_version": "1.5.0",
      "_model_name": "VBoxModel",
      "_view_count": null,
      "_view_module": "@jupyter-widgets/controls",
      "_view_module_version": "1.5.0",
      "_view_name": "VBoxView",
      "box_style": "",
      "children": [
       "IPY_MODEL_9d028977d10940bb985a9deac5a6b67e",
       "IPY_MODEL_81015984c45e4a24a8e09725460c6ab7"
      ],
      "layout": "IPY_MODEL_a5709279a64641b0867c78bf2e0cddcb"
     }
    },
    "e16e6643b0a54b75847716e2c994d5c7": {
     "model_module": "@jupyter-widgets/base",
     "model_module_version": "1.2.0",
     "model_name": "LayoutModel",
     "state": {
      "_model_module": "@jupyter-widgets/base",
      "_model_module_version": "1.2.0",
      "_model_name": "LayoutModel",
      "_view_count": null,
      "_view_module": "@jupyter-widgets/base",
      "_view_module_version": "1.2.0",
      "_view_name": "LayoutView",
      "align_content": null,
      "align_items": null,
      "align_self": null,
      "border": null,
      "bottom": null,
      "display": null,
      "flex": null,
      "flex_flow": null,
      "grid_area": null,
      "grid_auto_columns": null,
      "grid_auto_flow": null,
      "grid_auto_rows": null,
      "grid_column": null,
      "grid_gap": null,
      "grid_row": null,
      "grid_template_areas": null,
      "grid_template_columns": null,
      "grid_template_rows": null,
      "height": null,
      "justify_content": null,
      "justify_items": null,
      "left": null,
      "margin": null,
      "max_height": null,
      "max_width": null,
      "min_height": null,
      "min_width": null,
      "object_fit": null,
      "object_position": null,
      "order": null,
      "overflow": null,
      "overflow_x": null,
      "overflow_y": null,
      "padding": null,
      "right": null,
      "top": null,
      "visibility": null,
      "width": null
     }
    },
    "e1f4ff61161b49608d62b8bb7da47f37": {
     "model_module": "@jupyter-widgets/controls",
     "model_module_version": "1.5.0",
     "model_name": "VBoxModel",
     "state": {
      "_dom_classes": [
       "widget-interact"
      ],
      "_model_module": "@jupyter-widgets/controls",
      "_model_module_version": "1.5.0",
      "_model_name": "VBoxModel",
      "_view_count": null,
      "_view_module": "@jupyter-widgets/controls",
      "_view_module_version": "1.5.0",
      "_view_name": "VBoxView",
      "box_style": "",
      "children": [
       "IPY_MODEL_69adf4a0465748f9a05707808d84e0c7",
       "IPY_MODEL_d1d1e1363ea94296b3ab50df60738b65"
      ],
      "layout": "IPY_MODEL_b40f3f795f76456085b16d890f610985"
     }
    },
    "e2b5d7d9f6ca48edb0d5b4386efc49d1": {
     "model_module": "@jupyter-widgets/base",
     "model_module_version": "1.2.0",
     "model_name": "LayoutModel",
     "state": {
      "_model_module": "@jupyter-widgets/base",
      "_model_module_version": "1.2.0",
      "_model_name": "LayoutModel",
      "_view_count": null,
      "_view_module": "@jupyter-widgets/base",
      "_view_module_version": "1.2.0",
      "_view_name": "LayoutView",
      "align_content": null,
      "align_items": null,
      "align_self": null,
      "border": null,
      "bottom": null,
      "display": null,
      "flex": null,
      "flex_flow": null,
      "grid_area": null,
      "grid_auto_columns": null,
      "grid_auto_flow": null,
      "grid_auto_rows": null,
      "grid_column": null,
      "grid_gap": null,
      "grid_row": null,
      "grid_template_areas": null,
      "grid_template_columns": null,
      "grid_template_rows": null,
      "height": null,
      "justify_content": null,
      "justify_items": null,
      "left": null,
      "margin": null,
      "max_height": null,
      "max_width": null,
      "min_height": null,
      "min_width": null,
      "object_fit": null,
      "object_position": null,
      "order": null,
      "overflow": null,
      "overflow_x": null,
      "overflow_y": null,
      "padding": null,
      "right": null,
      "top": null,
      "visibility": null,
      "width": null
     }
    },
    "e3fe010cde3a46eb8a80b21e12289150": {
     "model_module": "@jupyter-widgets/controls",
     "model_module_version": "1.5.0",
     "model_name": "SliderStyleModel",
     "state": {
      "_model_module": "@jupyter-widgets/controls",
      "_model_module_version": "1.5.0",
      "_model_name": "SliderStyleModel",
      "_view_count": null,
      "_view_module": "@jupyter-widgets/base",
      "_view_module_version": "1.2.0",
      "_view_name": "StyleView",
      "description_width": "",
      "handle_color": null
     }
    },
    "ecff2b867c5345cfb0c095851620f5d0": {
     "model_module": "@jupyter-widgets/controls",
     "model_module_version": "1.5.0",
     "model_name": "VBoxModel",
     "state": {
      "_dom_classes": [
       "widget-interact"
      ],
      "_model_module": "@jupyter-widgets/controls",
      "_model_module_version": "1.5.0",
      "_model_name": "VBoxModel",
      "_view_count": null,
      "_view_module": "@jupyter-widgets/controls",
      "_view_module_version": "1.5.0",
      "_view_name": "VBoxView",
      "box_style": "",
      "children": [
       "IPY_MODEL_331bf510b0a3470385712086a93a2fc9",
       "IPY_MODEL_bc3c87fdcf1c41db834c9d09384c8c09"
      ],
      "layout": "IPY_MODEL_80dbfa7d8301486aa5ed01b58fc8b464"
     }
    },
    "ed01cae50dce431291b544410bf89e33": {
     "model_module": "@jupyter-widgets/base",
     "model_module_version": "1.2.0",
     "model_name": "LayoutModel",
     "state": {
      "_model_module": "@jupyter-widgets/base",
      "_model_module_version": "1.2.0",
      "_model_name": "LayoutModel",
      "_view_count": null,
      "_view_module": "@jupyter-widgets/base",
      "_view_module_version": "1.2.0",
      "_view_name": "LayoutView",
      "align_content": null,
      "align_items": null,
      "align_self": null,
      "border": null,
      "bottom": null,
      "display": null,
      "flex": null,
      "flex_flow": null,
      "grid_area": null,
      "grid_auto_columns": null,
      "grid_auto_flow": null,
      "grid_auto_rows": null,
      "grid_column": null,
      "grid_gap": null,
      "grid_row": null,
      "grid_template_areas": null,
      "grid_template_columns": null,
      "grid_template_rows": null,
      "height": null,
      "justify_content": null,
      "justify_items": null,
      "left": null,
      "margin": null,
      "max_height": null,
      "max_width": null,
      "min_height": null,
      "min_width": null,
      "object_fit": null,
      "object_position": null,
      "order": null,
      "overflow": null,
      "overflow_x": null,
      "overflow_y": null,
      "padding": null,
      "right": null,
      "top": null,
      "visibility": null,
      "width": null
     }
    }
   }
  }
 },
 "nbformat": 4,
 "nbformat_minor": 1
}
